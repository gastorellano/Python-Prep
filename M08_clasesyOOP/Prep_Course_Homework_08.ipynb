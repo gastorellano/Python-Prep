{
 "cells": [
  {
   "attachments": {},
   "cell_type": "markdown",
   "metadata": {},
   "source": [
    "## Clases y Programación Orientada a Objetos"
   ]
  },
  {
   "attachments": {},
   "cell_type": "markdown",
   "metadata": {},
   "source": [
    "1) Crear la clase vehículo que contenga los atributos:<br>\n",
    "Color<br>\n",
    "Si es moto, auto, camioneta ó camión<br>\n",
    "Cilindrada del motor"
   ]
  },
  {
   "cell_type": "code",
   "execution_count": 2,
   "metadata": {},
   "outputs": [],
   "source": [
    "class Vehiculo:\n",
    "    def __init__(self,color,tipo,cilindrada):\n",
    "        self.color=color\n",
    "        self.tipo=tipo\n",
    "        self.cilindrada=cilindrada"
   ]
  },
  {
   "attachments": {},
   "cell_type": "markdown",
   "metadata": {},
   "source": [
    "2) A la clase Vehiculo creada en el punto 1, agregar los siguientes métodos:<br>\n",
    "Acelerar<br>\n",
    "Frenar<br>\n",
    "Doblar<br>"
   ]
  },
  {
   "cell_type": "code",
   "execution_count": 3,
   "metadata": {},
   "outputs": [],
   "source": [
    "class Vehiculo:\n",
    "    def __init__(self,color,tipo,cilindrada):\n",
    "        self.color=color\n",
    "        self.tipo=tipo\n",
    "        self.cilindrada=cilindrada\n",
    "        self.velocidad=0\n",
    "        self.direccion=0\n",
    "\n",
    "    def Acelerar(self,vel):\n",
    "        self.velocidad +=vel\n",
    "    def Frenar(self,vel):\n",
    "        self.velocidad -= vel\n",
    "    def Girar(self,grados):\n",
    "        self.direccion +=grados\n",
    "\n",
    "\n",
    "\n"
   ]
  },
  {
   "attachments": {},
   "cell_type": "markdown",
   "metadata": {},
   "source": [
    "3) Instanciar 3 objetos de la clase vehículo y ejecutar sus métodos, probar luego el resultado"
   ]
  },
  {
   "cell_type": "code",
   "execution_count": 7,
   "metadata": {},
   "outputs": [],
   "source": [
    "auto1=Vehiculo('Azul','Auto',1.6)\n",
    "\n",
    "moto1=Vehiculo('Rojo','Moto',750)\n",
    "\n",
    "auto2=Vehiculo('Blanco','Auto',2.0)\n",
    "\n",
    "auto1.Acelerar(60)\n",
    "auto1.Girar(25)\n",
    "\n",
    "moto1.Acelerar(50)\n",
    "moto1.Frenar(10)\n",
    "\n",
    "auto2.Acelerar(80)\n",
    "auto2.Frenar(25)\n",
    "auto2.Girar(30)"
   ]
  },
  {
   "attachments": {},
   "cell_type": "markdown",
   "metadata": {},
   "source": [
    "4) Agregar a la clase Vehiculo, un método que muestre su estado, es decir, a que velocidad se encuentra y su dirección. Y otro método que muestre color, tipo y cilindrada"
   ]
  },
  {
   "cell_type": "code",
   "execution_count": 8,
   "metadata": {},
   "outputs": [],
   "source": [
    "class Vehiculo:\n",
    "    def __init__(self,color,tipo,cilindrada):\n",
    "        self.color=color\n",
    "        self.tipo=tipo\n",
    "        self.cilindrada=cilindrada\n",
    "        self.velocidad=0\n",
    "        self.direccion=0\n",
    "\n",
    "    def Acelerar(self,vel):\n",
    "        self.velocidad +=vel\n",
    "    def Frenar(self,vel):\n",
    "        self.velocidad -= vel\n",
    "    def Girar(self,grados):\n",
    "        self.direccion +=grados\n",
    "\n",
    "    def Estado(self):\n",
    "        print('El vehículo circula a ',self.velocidad,' y ha girado ',self.direccion,'grados')\n",
    "\n",
    "    def Detalles(self):\n",
    "        print('El Vehículo es de tipo: ',self.tipo,' de color: ',self.color, 'y de cilindrada: ',self.cilindrada)\n"
   ]
  },
  {
   "cell_type": "code",
   "execution_count": 10,
   "metadata": {},
   "outputs": [],
   "source": [
    "auto1=Vehiculo('Azul','Auto',1.6)\n",
    "\n",
    "moto1=Vehiculo('Rojo','Moto',750)\n",
    "\n",
    "auto2=Vehiculo('Blanco','Auto',2.0)\n",
    "\n",
    "auto1.Acelerar(60)\n",
    "auto1.Girar(25)\n",
    "\n",
    "moto1.Acelerar(50)\n",
    "moto1.Frenar(10)\n",
    "\n",
    "auto2.Acelerar(80)\n",
    "auto2.Frenar(25)\n",
    "auto2.Girar(30)"
   ]
  },
  {
   "cell_type": "code",
   "execution_count": 12,
   "metadata": {},
   "outputs": [
    {
     "name": "stdout",
     "output_type": "stream",
     "text": [
      "El Vehículo es de tipo:  Auto  de color:  Azul y de cilindrada:  1.6\n"
     ]
    }
   ],
   "source": [
    "auto1.Detalles()"
   ]
  },
  {
   "cell_type": "code",
   "execution_count": 13,
   "metadata": {},
   "outputs": [
    {
     "name": "stdout",
     "output_type": "stream",
     "text": [
      "El vehículo circula a  60  y ha girado  25 grados\n"
     ]
    }
   ],
   "source": [
    "auto1.Estado()"
   ]
  },
  {
   "cell_type": "code",
   "execution_count": 14,
   "metadata": {},
   "outputs": [
    {
     "name": "stdout",
     "output_type": "stream",
     "text": [
      "El vehículo circula a  0  y ha girado  0 grados\n"
     ]
    }
   ],
   "source": [
    "auto1.Girar(-25)\n",
    "auto1.Frenar(60)\n",
    "auto1.Estado()"
   ]
  },
  {
   "attachments": {},
   "cell_type": "markdown",
   "metadata": {},
   "source": [
    "5) Crear una clase que permita utilizar las funciones creadas en la práctica del módulo 7<br>\n",
    "Verificar Primo<br>\n",
    "Valor modal<br>\n",
    "Conversión grados<br>\n",
    "Factorial<br>"
   ]
  },
  {
   "cell_type": "code",
   "execution_count": 31,
   "metadata": {},
   "outputs": [],
   "source": [
    "class funcionesu7:\n",
    "    def _init__(self) ->None:\n",
    "        pass\n",
    "\n",
    "    def es_primo(self,n):\n",
    "        primo=True\n",
    "        for div in range(2,n):\n",
    "            if n%div==0:\n",
    "                primo=False\n",
    "                break            \n",
    "        return primo\n",
    "    def ver_moda(self,lista_numeros):\n",
    "        lista_unicos=[]\n",
    "        lista_repeticiones=[]\n",
    "        if len(lista_numeros) == 0:\n",
    "            return None\n",
    "        for elementos in lista_numeros:\n",
    "            if elementos in lista_unicos:\n",
    "                indice = lista_unicos.index(elementos)\n",
    "                lista_repeticiones[indice] += 1\n",
    "            else:\n",
    "                lista_unicos.append(elementos)\n",
    "                lista_repeticiones.append(1)\n",
    "\n",
    "        moda = lista_unicos[0]\n",
    "        maximo = lista_repeticiones[0]\n",
    "\n",
    "        for i, elemento in enumerate(lista_unicos):\n",
    "            if lista_repeticiones[i] > maximo:\n",
    "                moda = lista_unicos[i]\n",
    "                maximo = lista_repeticiones[i]\n",
    "\n",
    "        return moda, maximo\n",
    "    \n",
    "    def convertir_temperatura(self,num, medida_origen, medida_destino):\n",
    "        if medida_origen=='celsius':\n",
    "            if medida_destino=='farenheit':\n",
    "                celsius_farenheit = (num * 9/5) + 32\n",
    "                return celsius_farenheit\n",
    "                print(f'{num}°C= {celsius_farenheit}°F')\n",
    "            if medida_destino=='kelvin':\n",
    "                celsius_kelvin = num + 273.15\n",
    "                return celsius_kelvin\n",
    "                print(f'{num}°C = {celsius_kelvin}°K')\n",
    "        if medida_origen=='farenheit':\n",
    "            if medida_destino=='celsius':\n",
    "                farenheit_celsius = (num - 32) * 5/9\n",
    "                return farenheit_celsius\n",
    "                print(f'{num}°F = {farenheit_celsius}°C')\n",
    "            if medida_destino=='kelvin':\n",
    "                farenheit_kelvin = ((num - 32) * 5/9) + 273.15\n",
    "                return farenheit_kelvin\n",
    "                print(f'{num}|F = {farenheit_kelvin}°K')\n",
    "        if medida_origen=='kelvin':\n",
    "            if medida_destino=='celsius':        \n",
    "                kelvin_celsius = num - 273.15\n",
    "                return kelvin_celsius\n",
    "                print(f'{num}°K = {kelvin_celsius}°C')\n",
    "            if medida_destino=='farenheit':\n",
    "                kelvin_farenheit = ((num - 273.15) * 9/5) + 32\n",
    "                return kelvin_farenheit\n",
    "                print(f'{num}°K = {kelvin_farenheit}°F')\n",
    "    def factorial(self,num):\n",
    "        if num<0:\n",
    "            return'El número debe ser positivo'\n",
    "        if type(num)!=int:\n",
    "            return'El número debe ser entero'\n",
    "        if num<=1:\n",
    "            return 1\n",
    "        \n",
    "        num=num*self.factorial(num-1)\n",
    "        return num"
   ]
  },
  {
   "cell_type": "code",
   "execution_count": 32,
   "metadata": {},
   "outputs": [],
   "source": [
    "f=funcionesu7()"
   ]
  },
  {
   "attachments": {},
   "cell_type": "markdown",
   "metadata": {},
   "source": [
    "6) Probar las funciones incorporadas en la clase del punto 5"
   ]
  },
  {
   "cell_type": "code",
   "execution_count": 22,
   "metadata": {},
   "outputs": [
    {
     "data": {
      "text/plain": [
       "False"
      ]
     },
     "execution_count": 22,
     "metadata": {},
     "output_type": "execute_result"
    }
   ],
   "source": [
    "f.es_primo(15)"
   ]
  },
  {
   "cell_type": "code",
   "execution_count": 23,
   "metadata": {},
   "outputs": [
    {
     "data": {
      "text/plain": [
       "True"
      ]
     },
     "execution_count": 23,
     "metadata": {},
     "output_type": "execute_result"
    }
   ],
   "source": [
    "f.es_primo(3)"
   ]
  },
  {
   "cell_type": "code",
   "execution_count": 27,
   "metadata": {},
   "outputs": [
    {
     "data": {
      "text/plain": [
       "(1, 6)"
      ]
     },
     "execution_count": 27,
     "metadata": {},
     "output_type": "execute_result"
    }
   ],
   "source": [
    "lista=[1,1,5,5,5,3,4,7,8,1,2,5,1,1,1]\n",
    "f.ver_moda(lista)"
   ]
  },
  {
   "cell_type": "code",
   "execution_count": 28,
   "metadata": {},
   "outputs": [
    {
     "data": {
      "text/plain": [
       "274.15"
      ]
     },
     "execution_count": 28,
     "metadata": {},
     "output_type": "execute_result"
    }
   ],
   "source": [
    "f.convertir_temperatura(1,'celsius','kelvin')"
   ]
  },
  {
   "cell_type": "code",
   "execution_count": 35,
   "metadata": {},
   "outputs": [
    {
     "data": {
      "text/plain": [
       "5040"
      ]
     },
     "execution_count": 35,
     "metadata": {},
     "output_type": "execute_result"
    }
   ],
   "source": [
    "f.factorial(7)"
   ]
  },
  {
   "attachments": {},
   "cell_type": "markdown",
   "metadata": {},
   "source": [
    "7) Es necesario que la clase creada en el punto 5 contenga una lista, sobre la cual se apliquen las funciones incorporadas"
   ]
  },
  {
   "cell_type": "code",
   "execution_count": 77,
   "metadata": {},
   "outputs": [],
   "source": [
    "class Funciones:\n",
    "    def __init__(self, lista1):\n",
    "        self.lista1=lista1\n",
    "\n",
    "    def es_primo(self):\n",
    "        for i in self.lista1:\n",
    "            if (self.__verifica_primo(i)):\n",
    "                print('El elemento', i, 'SI es un numero primo')\n",
    "            else:\n",
    "                print('El elemento', i, 'NO es un numero primo')\n",
    "\n",
    "    def convertir_temperatura(self, origen, destino):\n",
    "        for i in self.lista1:\n",
    "            print(i, 'grados', origen, 'son', self.__conversion_grados(i, origen, destino),'grados',destino)\n",
    "    \n",
    "    def factorial(self):\n",
    "        for i in self.lista1:\n",
    "            print('El factorial de ', i, 'es', self.__factorial(i))\n",
    "\n",
    "    def __verifica_primo(self,n):\n",
    "        primo=True\n",
    "        for div in range(2,n):\n",
    "            if n%div==0:\n",
    "                primo=False\n",
    "                break            \n",
    "        return primo\n",
    "    def ver_moda(self,lista_numeros):\n",
    "        lista_unicos=[]\n",
    "        lista_repeticiones=[]\n",
    "        if len(lista_numeros) == 0:\n",
    "            return None\n",
    "        for elementos in lista_numeros:\n",
    "            if elementos in lista_unicos:\n",
    "                indice = lista_unicos.index(elementos)\n",
    "                lista_repeticiones[indice] += 1\n",
    "            else:\n",
    "                lista_unicos.append(elementos)\n",
    "                lista_repeticiones.append(1)\n",
    "\n",
    "        moda = lista_unicos[0]\n",
    "        maximo = lista_repeticiones[0]\n",
    "\n",
    "        for i, elemento in enumerate(lista_unicos):\n",
    "            if lista_repeticiones[i] > maximo:\n",
    "                moda = lista_unicos[i]\n",
    "                maximo = lista_repeticiones[i]\n",
    "\n",
    "        return moda, maximo\n",
    "    \n",
    "    def __conversion_grados(self,num, medida_origen, medida_destino):\n",
    "        if medida_origen=='celsius':\n",
    "            if medida_destino=='farenheit':\n",
    "                celsius_farenheit = (num * 9/5) + 32\n",
    "                return celsius_farenheit\n",
    "                print(f'{num}°C= {celsius_farenheit}°F')\n",
    "            if medida_destino=='kelvin':\n",
    "                celsius_kelvin = num + 273.15\n",
    "                return celsius_kelvin\n",
    "                print(f'{num}°C = {celsius_kelvin}°K')\n",
    "        if medida_origen=='farenheit':\n",
    "            if medida_destino=='celsius':\n",
    "                farenheit_celsius = (num - 32) * 5/9\n",
    "                return farenheit_celsius\n",
    "                print(f'{num}°F = {farenheit_celsius}°C')\n",
    "            if medida_destino=='kelvin':\n",
    "                farenheit_kelvin = ((num - 32) * 5/9) + 273.15\n",
    "                return farenheit_kelvin\n",
    "                print(f'{num}|F = {farenheit_kelvin}°K')\n",
    "        if medida_origen=='kelvin':\n",
    "            if medida_destino=='celsius':        \n",
    "                kelvin_celsius = num - 273.15\n",
    "                return kelvin_celsius\n",
    "                print(f'{num}°K = {kelvin_celsius}°C')\n",
    "            if medida_destino=='farenheit':\n",
    "                kelvin_farenheit = ((num - 273.15) * 9/5) + 32\n",
    "                return kelvin_farenheit\n",
    "                print(f'{num}°K = {kelvin_farenheit}°F')\n",
    "    def __factorial(self,num):\n",
    "        if num<0:\n",
    "            return'El número debe ser positivo'\n",
    "        if type(num)!=int:\n",
    "            return'El número debe ser entero'\n",
    "        if num<=1:\n",
    "            return 1\n",
    "        \n",
    "        num=num*self.__factorial(num-1)\n",
    "        return num"
   ]
  },
  {
   "cell_type": "code",
   "execution_count": 78,
   "metadata": {},
   "outputs": [],
   "source": [
    "lista1=[1,2,3,3,4,5,9,9,3,3]\n"
   ]
  },
  {
   "cell_type": "code",
   "execution_count": 79,
   "metadata": {},
   "outputs": [],
   "source": [
    "func=Funciones(lista1)"
   ]
  },
  {
   "cell_type": "code",
   "execution_count": 72,
   "metadata": {},
   "outputs": [
    {
     "name": "stdout",
     "output_type": "stream",
     "text": [
      "El elemento 1 SI es un numero primo\n",
      "El elemento 2 SI es un numero primo\n",
      "El elemento 3 SI es un numero primo\n",
      "El elemento 3 SI es un numero primo\n",
      "El elemento 4 NO es un numero primo\n",
      "El elemento 5 SI es un numero primo\n",
      "El elemento 9 NO es un numero primo\n",
      "El elemento 9 NO es un numero primo\n",
      "El elemento 3 SI es un numero primo\n",
      "El elemento 3 SI es un numero primo\n"
     ]
    }
   ],
   "source": [
    "func.es_primo()"
   ]
  },
  {
   "cell_type": "code",
   "execution_count": 75,
   "metadata": {},
   "outputs": [
    {
     "name": "stdout",
     "output_type": "stream",
     "text": [
      "1 grados celsius son 274.15 grados kelvin\n",
      "2 grados celsius son 275.15 grados kelvin\n",
      "3 grados celsius son 276.15 grados kelvin\n",
      "3 grados celsius son 276.15 grados kelvin\n",
      "4 grados celsius son 277.15 grados kelvin\n",
      "5 grados celsius son 278.15 grados kelvin\n",
      "9 grados celsius son 282.15 grados kelvin\n",
      "9 grados celsius son 282.15 grados kelvin\n",
      "3 grados celsius son 276.15 grados kelvin\n",
      "3 grados celsius son 276.15 grados kelvin\n"
     ]
    }
   ],
   "source": [
    "func.convertir_temperatura('celsius','kelvin')"
   ]
  },
  {
   "cell_type": "code",
   "execution_count": 80,
   "metadata": {},
   "outputs": [
    {
     "name": "stdout",
     "output_type": "stream",
     "text": [
      "El factorial de  1 es 1\n",
      "El factorial de  2 es 2\n",
      "El factorial de  3 es 6\n",
      "El factorial de  3 es 6\n",
      "El factorial de  4 es 24\n",
      "El factorial de  5 es 120\n",
      "El factorial de  9 es 362880\n",
      "El factorial de  9 es 362880\n",
      "El factorial de  3 es 6\n",
      "El factorial de  3 es 6\n"
     ]
    }
   ],
   "source": [
    "func.factorial()"
   ]
  },
  {
   "attachments": {},
   "cell_type": "markdown",
   "metadata": {},
   "source": [
    "8) Crear un archivo .py aparte y ubicar allí la clase generada en el punto anterior. Luego realizar la importación del módulo y probar alguna de sus funciones"
   ]
  },
  {
   "cell_type": "code",
   "execution_count": 81,
   "metadata": {},
   "outputs": [],
   "source": [
    "from funciones import *"
   ]
  },
  {
   "cell_type": "code",
   "execution_count": 87,
   "metadata": {},
   "outputs": [],
   "source": [
    "fun = Funciones(lista1)"
   ]
  },
  {
   "cell_type": "code",
   "execution_count": 88,
   "metadata": {},
   "outputs": [
    {
     "name": "stdout",
     "output_type": "stream",
     "text": [
      "El elemento 1 SI es un numero primo\n",
      "El elemento 2 SI es un numero primo\n",
      "El elemento 3 SI es un numero primo\n",
      "El elemento 3 SI es un numero primo\n",
      "El elemento 4 NO es un numero primo\n",
      "El elemento 5 SI es un numero primo\n",
      "El elemento 9 NO es un numero primo\n",
      "El elemento 9 NO es un numero primo\n",
      "El elemento 3 SI es un numero primo\n",
      "El elemento 3 SI es un numero primo\n"
     ]
    }
   ],
   "source": [
    "fun.es_primo()"
   ]
  },
  {
   "cell_type": "code",
   "execution_count": 89,
   "metadata": {},
   "outputs": [
    {
     "name": "stdout",
     "output_type": "stream",
     "text": [
      "El factorial de  1 es 1\n",
      "El factorial de  2 es 2\n",
      "El factorial de  3 es 6\n",
      "El factorial de  3 es 6\n",
      "El factorial de  4 es 24\n",
      "El factorial de  5 es 120\n",
      "El factorial de  9 es 362880\n",
      "El factorial de  9 es 362880\n",
      "El factorial de  3 es 6\n",
      "El factorial de  3 es 6\n"
     ]
    }
   ],
   "source": [
    "fun.factorial()"
   ]
  }
 ],
 "metadata": {
  "interpreter": {
   "hash": "c85384e4cb51c8b72350f3a8712cc8351fdc3955e32a27f9b60c6242ab125f01"
  },
  "kernelspec": {
   "display_name": "Python 3 (ipykernel)",
   "language": "python",
   "name": "python3"
  },
  "language_info": {
   "codemirror_mode": {
    "name": "ipython",
    "version": 3
   },
   "file_extension": ".py",
   "mimetype": "text/x-python",
   "name": "python",
   "nbconvert_exporter": "python",
   "pygments_lexer": "ipython3",
   "version": "3.11.8"
  }
 },
 "nbformat": 4,
 "nbformat_minor": 4
}
