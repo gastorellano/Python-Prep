{
 "cells": [
  {
   "attachments": {},
   "cell_type": "markdown",
   "metadata": {},
   "source": [
    "## Funciones"
   ]
  },
  {
   "attachments": {},
   "cell_type": "markdown",
   "metadata": {},
   "source": [
    "1) Crear una función que reciba un número como parámetro y devuelva True si es primo y False si no lo es"
   ]
  },
  {
   "cell_type": "code",
   "execution_count": 35,
   "metadata": {},
   "outputs": [],
   "source": [
    "def es_primo(n):\n",
    "    primo=True\n",
    "    for div in range(2,n):\n",
    "        if n%div==0:\n",
    "            primo=False\n",
    "            break            \n",
    "    return primo            \n"
   ]
  },
  {
   "cell_type": "code",
   "execution_count": 36,
   "metadata": {},
   "outputs": [
    {
     "data": {
      "text/plain": [
       "True"
      ]
     },
     "execution_count": 36,
     "metadata": {},
     "output_type": "execute_result"
    }
   ],
   "source": [
    "es_primo(7)"
   ]
  },
  {
   "cell_type": "code",
   "execution_count": 37,
   "metadata": {},
   "outputs": [
    {
     "data": {
      "text/plain": [
       "False"
      ]
     },
     "execution_count": 37,
     "metadata": {},
     "output_type": "execute_result"
    }
   ],
   "source": [
    "es_primo(8)"
   ]
  },
  {
   "attachments": {},
   "cell_type": "markdown",
   "metadata": {},
   "source": [
    "2) Utilizando la función del punto 1, realizar otra función que reciba de parámetro una lista de números y devuelva sólo aquellos que son primos en otra lista"
   ]
  },
  {
   "cell_type": "code",
   "execution_count": 40,
   "metadata": {},
   "outputs": [],
   "source": [
    "def lista_primos(lista1):\n",
    "    lista_pr=[]\n",
    "    for elemento in lista1:\n",
    "        if es_primo(elemento)==True:\n",
    "            lista_pr.append(elemento)\n",
    "        else:\n",
    "            continue\n",
    "    return lista_pr\n",
    "    print(lista_pr)        "
   ]
  },
  {
   "cell_type": "code",
   "execution_count": 43,
   "metadata": {},
   "outputs": [
    {
     "data": {
      "text/plain": [
       "[1, 3, 5, 7, 19, 13, 11]"
      ]
     },
     "execution_count": 43,
     "metadata": {},
     "output_type": "execute_result"
    }
   ],
   "source": [
    "lista=[1,3,5,8,7,19,13,9,55,11,22,326]\n",
    "lista_primos(lista)"
   ]
  },
  {
   "attachments": {},
   "cell_type": "markdown",
   "metadata": {},
   "source": [
    "3) Crear una función que al recibir una lista de números, devuelva el que más se repite y cuántas veces lo hace. Si hay más de un \"más repetido\", que devuelva cualquiera"
   ]
  },
  {
   "cell_type": "code",
   "execution_count": 86,
   "metadata": {},
   "outputs": [],
   "source": [
    "def ver_moda(lista_numeros):\n",
    "    lista_unicos=[]\n",
    "    lista_repeticiones=[]\n",
    "    if len(lista_numeros) == 0:\n",
    "        return None\n",
    "    for elementos in lista_numeros:\n",
    "        if elementos in lista_unicos:\n",
    "            indice = lista_unicos.index(elementos)\n",
    "            lista_repeticiones[indice] += 1\n",
    "        else:\n",
    "            lista_unicos.append(elementos)\n",
    "            lista_repeticiones.append(1)\n",
    "\n",
    "    moda = lista_unicos[0]\n",
    "    maximo = lista_repeticiones[0]\n",
    "\n",
    "    for i, elemento in enumerate(lista_unicos):\n",
    "        if lista_repeticiones[i] > maximo:\n",
    "            moda = lista_unicos[i]\n",
    "            maximo = lista_repeticiones[i]\n",
    "\n",
    "    return moda, maximo"
   ]
  },
  {
   "cell_type": "code",
   "execution_count": 87,
   "metadata": {},
   "outputs": [],
   "source": [
    "lista=[1,1,1,5,4,5,6,8,10,22,5,6,4,11,9,5]"
   ]
  },
  {
   "cell_type": "code",
   "execution_count": 88,
   "metadata": {},
   "outputs": [
    {
     "data": {
      "text/plain": [
       "(5, 4)"
      ]
     },
     "execution_count": 88,
     "metadata": {},
     "output_type": "execute_result"
    }
   ],
   "source": [
    "ver_moda(lista)"
   ]
  },
  {
   "attachments": {},
   "cell_type": "markdown",
   "metadata": {},
   "source": [
    "4) Crear una función que convierta entre grados Celsius, Farenheit y Kelvin<br>\n",
    "Fórmula 1\t: (°C × 9/5) + 32 = °F<br>\n",
    "Fórmula 2\t: °C + 273.15 = °K<br>\n",
    "Debe recibir 3 parámetros: el valor, la medida de orígen y la medida de destino\n"
   ]
  },
  {
   "cell_type": "code",
   "execution_count": 44,
   "metadata": {},
   "outputs": [],
   "source": [
    "def convertir_temperatura(num, medida_origen, medida_destino):\n",
    "    if medida_origen=='celsius':\n",
    "        if medida_destino=='farenheit':\n",
    "            celsius_farenheit = (num * 9/5) + 32\n",
    "            return celsius_farenheit\n",
    "            print(f'{num}°C= {celsius_farenheit}°F')\n",
    "        if medida_destino=='kelvin':\n",
    "            celsius_kelvin = num + 273.15\n",
    "            return celsius_kelvin\n",
    "            print(f'{num}°C = {celsius_kelvin}°K')\n",
    "    if medida_origen=='farenheit':\n",
    "        if medida_destino=='celsius':\n",
    "            farenheit_celsius = (num - 32) * 5/9\n",
    "            return farenheit_celsius\n",
    "            print(f'{num}°F = {farenheit_celsius}°C')\n",
    "        if medida_destino=='kelvin':\n",
    "            farenheit_kelvin = ((num - 32) * 5/9) + 273.15\n",
    "            return farenheit_kelvin\n",
    "            print(f'{num}|F = {farenheit_kelvin}°K')\n",
    "    if medida_origen=='kelvin':\n",
    "        if medida_destino=='celsius':        \n",
    "            kelvin_celsius = num - 273.15\n",
    "            return kelvin_celsius\n",
    "            print(f'{num}°K = {kelvin_celsius}°C')\n",
    "        if medida_destino=='farenheit':\n",
    "            kelvin_farenheit = ((num - 273.15) * 9/5) + 32\n",
    "            return kelvin_farenheit\n",
    "            print(f'{num}°K = {kelvin_farenheit}°F')\n",
    "            "
   ]
  },
  {
   "cell_type": "code",
   "execution_count": 45,
   "metadata": {},
   "outputs": [
    {
     "data": {
      "text/plain": [
       "59.0"
      ]
     },
     "execution_count": 45,
     "metadata": {},
     "output_type": "execute_result"
    }
   ],
   "source": [
    "convertir_temperatura(15,'celsius','farenheit')"
   ]
  },
  {
   "cell_type": "code",
   "execution_count": 47,
   "metadata": {},
   "outputs": [
    {
     "data": {
      "text/plain": [
       "23.88888888888889"
      ]
     },
     "execution_count": 47,
     "metadata": {},
     "output_type": "execute_result"
    }
   ],
   "source": [
    "convertir_temperatura(75,'farenheit','celsius')"
   ]
  },
  {
   "attachments": {},
   "cell_type": "markdown",
   "metadata": {},
   "source": [
    "5) Iterando una lista con los tres valores posibles de temperatura que recibe la función del punto 5, hacer un print para cada combinación de los mismos:"
   ]
  },
  {
   "cell_type": "code",
   "execution_count": 50,
   "metadata": {},
   "outputs": [
    {
     "name": "stdout",
     "output_type": "stream",
     "text": [
      "1° celsius= 33.8° farenheit\n",
      "1° celsius= 274.15° kelvin\n",
      "1° farenheit= -17.22222222222222° celsius\n",
      "1° farenheit= 255.92777777777775° kelvin\n",
      "1° kelvin= -272.15° celsius\n",
      "1° kelvin= -457.87° farenheit\n"
     ]
    }
   ],
   "source": [
    "medida=['celsius','farenheit','kelvin']\n",
    "for a in medida:\n",
    "    for b in medida:\n",
    "        if a==b:\n",
    "            continue\n",
    "        else:\n",
    "            res=convertir_temperatura(1,a,b)\n",
    "            print(f'1° {a}= {res}° {b}')"
   ]
  },
  {
   "attachments": {},
   "cell_type": "markdown",
   "metadata": {},
   "source": [
    "6) Armar una función que devuelva el factorial de un número. Tener en cuenta que el usuario puede equivocarse y enviar de parámetro un número no entero o negativo"
   ]
  },
  {
   "cell_type": "code",
   "execution_count": 84,
   "metadata": {},
   "outputs": [],
   "source": [
    "def factorial(num):\n",
    "    if num<0:\n",
    "        return'El número debe ser positivo'\n",
    "    if type(num)!=int:\n",
    "        return'El número debe ser entero'\n",
    "    if num<=1:\n",
    "        return 1\n",
    "    \n",
    "    num=num*factorial(num-1)\n",
    "    return num\n",
    "\n",
    "   "
   ]
  },
  {
   "cell_type": "code",
   "execution_count": 85,
   "metadata": {},
   "outputs": [
    {
     "data": {
      "text/plain": [
       "120"
      ]
     },
     "execution_count": 85,
     "metadata": {},
     "output_type": "execute_result"
    }
   ],
   "source": [
    "factorial(5)"
   ]
  }
 ],
 "metadata": {
  "interpreter": {
   "hash": "c85384e4cb51c8b72350f3a8712cc8351fdc3955e32a27f9b60c6242ab125f01"
  },
  "kernelspec": {
   "display_name": "Python 3 (ipykernel)",
   "language": "python",
   "name": "python3"
  },
  "language_info": {
   "codemirror_mode": {
    "name": "ipython",
    "version": 3
   },
   "file_extension": ".py",
   "mimetype": "text/x-python",
   "name": "python",
   "nbconvert_exporter": "python",
   "pygments_lexer": "ipython3",
   "version": "3.11.8"
  }
 },
 "nbformat": 4,
 "nbformat_minor": 4
}
