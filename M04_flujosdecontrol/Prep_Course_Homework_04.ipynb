{
 "cells": [
  {
   "attachments": {},
   "cell_type": "markdown",
   "metadata": {},
   "source": [
    "## Flujos de Control"
   ]
  },
  {
   "attachments": {},
   "cell_type": "markdown",
   "metadata": {},
   "source": [
    "1) Crear una variable que contenga un elemento del conjunto de números enteros y luego imprimir por pantalla si es mayor o menor a cero"
   ]
  },
  {
   "cell_type": "code",
   "execution_count": 4,
   "metadata": {},
   "outputs": [
    {
     "name": "stdout",
     "output_type": "stream",
     "text": [
      "El número es mayor a 0\n"
     ]
    }
   ],
   "source": [
    "num=5\n",
    "if num<0:\n",
    "    print('El número es menor a 0')\n",
    "elif num>0:\n",
    "    print('El número es mayor a 0')\n",
    "else:\n",
    "    print('El número es igual a 0')"
   ]
  },
  {
   "attachments": {},
   "cell_type": "markdown",
   "metadata": {},
   "source": [
    "2) Crear dos variables y un condicional que informe si son del mismo tipo de dato"
   ]
  },
  {
   "cell_type": "code",
   "execution_count": 5,
   "metadata": {},
   "outputs": [
    {
     "name": "stdout",
     "output_type": "stream",
     "text": [
      "Gaston  y  32  son tipos de datos diferentes\n"
     ]
    }
   ],
   "source": [
    "name=\"Gaston\" #Se asigna un string\n",
    "edad=32 #se asigna un integer. Puede cambiar el resultado si coloco la edad como string entre comillas: \"32\".\n",
    "if type(name)==type(edad):\n",
    "    print(name, ' y ', edad, ' son el mismo tipo de dato')\n",
    "else:\n",
    "    print(name,' y ',edad, ' son tipos de datos diferentes')"
   ]
  },
  {
   "attachments": {},
   "cell_type": "markdown",
   "metadata": {},
   "source": [
    "3) Para los valores enteros del 1 al 20, imprimir por pantalla si es par o impar"
   ]
  },
  {
   "cell_type": "code",
   "execution_count": 6,
   "metadata": {},
   "outputs": [
    {
     "name": "stdout",
     "output_type": "stream",
     "text": [
      "1\n",
      "Número impar\n",
      "2\n",
      "Número par\n",
      "3\n",
      "Número impar\n",
      "4\n",
      "Número par\n",
      "5\n",
      "Número impar\n",
      "6\n",
      "Número par\n",
      "7\n",
      "Número impar\n",
      "8\n",
      "Número par\n",
      "9\n",
      "Número impar\n",
      "10\n",
      "Número par\n",
      "11\n",
      "Número impar\n",
      "12\n",
      "Número par\n",
      "13\n",
      "Número impar\n",
      "14\n",
      "Número par\n",
      "15\n",
      "Número impar\n",
      "16\n",
      "Número par\n",
      "17\n",
      "Número impar\n",
      "18\n",
      "Número par\n",
      "19\n",
      "Número impar\n",
      "20\n",
      "Número par\n"
     ]
    }
   ],
   "source": [
    "for i in range(1,21):\n",
    "    print(i)\n",
    "    if i%2==0:\n",
    "        print('Número par')\n",
    "    else:\n",
    "        print('Número impar')"
   ]
  },
  {
   "attachments": {},
   "cell_type": "markdown",
   "metadata": {},
   "source": [
    "4) En un ciclo for mostrar para los valores entre 0 y 5 el resultado de elevarlo a la potencia igual a 3"
   ]
  },
  {
   "cell_type": "code",
   "execution_count": 7,
   "metadata": {},
   "outputs": [
    {
     "name": "stdout",
     "output_type": "stream",
     "text": [
      "0 ^3= 0\n",
      "1 ^3= 1\n",
      "2 ^3= 8\n",
      "3 ^3= 27\n",
      "4 ^3= 64\n",
      "5 ^3= 125\n"
     ]
    }
   ],
   "source": [
    "for v in range(0,6):\n",
    "    res=v**3\n",
    "    print(v,'^3=',res)"
   ]
  },
  {
   "attachments": {},
   "cell_type": "markdown",
   "metadata": {},
   "source": [
    "5) Crear una variable que contenga un número entero y realizar un ciclo for la misma cantidad de ciclos"
   ]
  },
  {
   "cell_type": "code",
   "execution_count": 8,
   "metadata": {},
   "outputs": [
    {
     "name": "stdout",
     "output_type": "stream",
     "text": [
      "0\n",
      "1\n",
      "2\n"
     ]
    }
   ],
   "source": [
    "n=3\n",
    "for x in range(n):\n",
    "    print(x)"
   ]
  },
  {
   "attachments": {},
   "cell_type": "markdown",
   "metadata": {},
   "source": [
    "6) Utilizar un ciclo while para realizar el factorial de un número guardado en una variable, sólo si la variable contiene un número entero mayor a 0"
   ]
  },
  {
   "cell_type": "code",
   "execution_count": 1,
   "metadata": {},
   "outputs": [
    {
     "name": "stdout",
     "output_type": "stream",
     "text": [
      "El factoral es 120\n"
     ]
    }
   ],
   "source": [
    "var=5\n",
    "if(type(var)==int):\n",
    "    if(var>0):\n",
    "        factorial=var\n",
    "        while var>2:\n",
    "            var=var-1\n",
    "            factorial=factorial*var\n",
    "        print('El factoral es',factorial)\n",
    "    else:\n",
    "            print('El número es menor a cero.')\n",
    "else:\n",
    "    print(\"No es un número entero\")"
   ]
  },
  {
   "attachments": {},
   "cell_type": "markdown",
   "metadata": {},
   "source": [
    "7) Crear un ciclo for dentro de un ciclo while"
   ]
  },
  {
   "cell_type": "code",
   "execution_count": 12,
   "metadata": {},
   "outputs": [
    {
     "name": "stdout",
     "output_type": "stream",
     "text": [
      "Ciclo while N° 4\n",
      "Ciclo for\n",
      "Ciclo for\n",
      "Ciclo for\n",
      "Ciclo while N° 3\n",
      "Ciclo for\n",
      "Ciclo for\n",
      "Ciclo for\n",
      "Ciclo while N° 2\n",
      "Ciclo for\n",
      "Ciclo for\n",
      "Ciclo for\n",
      "Ciclo while N° 1\n",
      "Ciclo for\n",
      "Ciclo for\n",
      "Ciclo for\n"
     ]
    }
   ],
   "source": [
    "n1=4\n",
    "while n1>0:\n",
    "    print('Ciclo while N°',n1)\n",
    "    n1-=1\n",
    "    for n2 in range(3):\n",
    "        n2+=1\n",
    "        print('Ciclo for')"
   ]
  },
  {
   "attachments": {},
   "cell_type": "markdown",
   "metadata": {},
   "source": [
    "8) Crear un ciclo while dentro de un ciclo for"
   ]
  },
  {
   "cell_type": "code",
   "execution_count": 19,
   "metadata": {},
   "outputs": [
    {
     "name": "stdout",
     "output_type": "stream",
     "text": [
      "Ciclo for 1\n",
      "Ciclo while 1\n",
      "Ciclo while 2\n",
      "Ciclo while 3\n",
      "Ciclo while 4\n",
      "Ciclo for 2\n",
      "Ciclo while 1\n",
      "Ciclo while 2\n",
      "Ciclo while 3\n",
      "Ciclo while 4\n",
      "Ciclo for 3\n",
      "Ciclo while 1\n",
      "Ciclo while 2\n",
      "Ciclo while 3\n",
      "Ciclo while 4\n",
      "Ciclo for 4\n",
      "Ciclo while 1\n",
      "Ciclo while 2\n",
      "Ciclo while 3\n",
      "Ciclo while 4\n"
     ]
    }
   ],
   "source": [
    "for ni in range(1,5):\n",
    "    print('Ciclo for',ni)\n",
    "    nu=1\n",
    "    while nu<5:\n",
    "        print('Ciclo while',nu)\n",
    "        nu=nu+1\n",
    "   \n"
   ]
  },
  {
   "attachments": {},
   "cell_type": "markdown",
   "metadata": {},
   "source": [
    "9) Imprimir los números primos existentes entre 0 y 30"
   ]
  },
  {
   "cell_type": "code",
   "execution_count": 29,
   "metadata": {},
   "outputs": [
    {
     "name": "stdout",
     "output_type": "stream",
     "text": [
      "0\n",
      "1\n",
      "2\n",
      "3\n",
      "5\n",
      "7\n",
      "11\n",
      "13\n",
      "17\n",
      "19\n",
      "23\n",
      "29\n"
     ]
    }
   ],
   "source": [
    "n=0\n",
    "t=30\n",
    "primo=True\n",
    "while n<t:\n",
    "    for div in range(2,n):\n",
    "        if n%div==0:\n",
    "            primo=False\n",
    "    if primo==True:\n",
    "        print(n)\n",
    "    else:\n",
    "        primo=True\n",
    "    n=n+1"
   ]
  },
  {
   "attachments": {},
   "cell_type": "markdown",
   "metadata": {},
   "source": [
    "10) ¿Se puede mejorar el proceso del punto 9? Utilizar las sentencias break y/ó continue para tal fin"
   ]
  },
  {
   "cell_type": "code",
   "execution_count": 23,
   "metadata": {},
   "outputs": [
    {
     "name": "stdout",
     "output_type": "stream",
     "text": [
      "0\n",
      "1\n",
      "2\n",
      "3\n",
      "5\n",
      "7\n",
      "11\n",
      "13\n",
      "17\n",
      "19\n",
      "23\n",
      "29\n"
     ]
    }
   ],
   "source": [
    "n=0\n",
    "primo=True\n",
    "while n<31:\n",
    "    for div in range(2,n):\n",
    "        if n%div==0:\n",
    "            primo=False\n",
    "            break\n",
    "    if primo== True:\n",
    "        print(n)\n",
    "    else:\n",
    "        primo=True\n",
    "    n=n+1"
   ]
  },
  {
   "attachments": {},
   "cell_type": "markdown",
   "metadata": {},
   "source": [
    "11) En los puntos 9 y 10, se diseño un código que encuentra números primos y además se lo optimizó. ¿Es posible saber en qué medida se optimizó?"
   ]
  },
  {
   "cell_type": "code",
   "execution_count": 41,
   "metadata": {},
   "outputs": [
    {
     "name": "stdout",
     "output_type": "stream",
     "text": [
      "0\n",
      "1\n",
      "2\n",
      "3\n",
      "5\n",
      "7\n",
      "11\n",
      "13\n",
      "17\n",
      "19\n",
      "23\n",
      "29\n",
      "Cantidad de Ciclos: 378\n"
     ]
    }
   ],
   "source": [
    "#ejercicio sin break\n",
    "n=0\n",
    "t=30\n",
    "ciclos=0\n",
    "primo=True\n",
    "while n<t:\n",
    "    for div in range(2,n):\n",
    "        ciclos+=1\n",
    "        if n%div==0:\n",
    "            primo=False\n",
    "    if primo==True:\n",
    "        print(n)\n",
    "    else:\n",
    "        primo=True\n",
    "    n+=1\n",
    "print('Cantidad de Ciclos:',ciclos)"
   ]
  },
  {
   "cell_type": "code",
   "execution_count": 44,
   "metadata": {},
   "outputs": [
    {
     "name": "stdout",
     "output_type": "stream",
     "text": [
      "0\n",
      "1\n",
      "2\n",
      "3\n",
      "5\n",
      "7\n",
      "11\n",
      "13\n",
      "17\n",
      "19\n",
      "23\n",
      "29\n",
      "Cantidad de Ciclos con Break:  134\n"
     ]
    }
   ],
   "source": [
    "#Ejercicio con break\n",
    "\n",
    "n=0\n",
    "t=30\n",
    "primo=True\n",
    "ciclo_break=0\n",
    "while n<t:\n",
    "    for div in range(2,n):\n",
    "        ciclo_break+=1\n",
    "        if n%div==0:\n",
    "            primo=False\n",
    "            break\n",
    "    if primo==True:\n",
    "        print(n)\n",
    "    else:\n",
    "        primo=True\n",
    "    n+=1\n",
    "print('Cantidad de Ciclos con Break: ',ciclo_break)"
   ]
  },
  {
   "cell_type": "code",
   "execution_count": 54,
   "metadata": {},
   "outputs": [
    {
     "name": "stdout",
     "output_type": "stream",
     "text": [
      "Ciclos sin break:  378\n",
      "Ciclos con break:  134\n",
      "Se han ejecutado  244  ciclos menos en el segundo código\n",
      "En el código con break se ejecuta el 35 % de los ciclos que se ejecutan en el primero.\n"
     ]
    }
   ],
   "source": [
    "print('Ciclos sin break: ',ciclos)\n",
    "print('Ciclos con break: ',ciclo_break)\n",
    "dif=ciclos-ciclo_break\n",
    "porc=int((ciclo_break/ciclos)*100)\n",
    "print('Se han ejecutado ',dif,' ciclos menos en el segundo código')\n",
    "print('En el código con break se ejecuta el',porc,'% de los ciclos que se ejecutan en el primero.')"
   ]
  },
  {
   "attachments": {},
   "cell_type": "markdown",
   "metadata": {},
   "source": [
    "12) Aplicando continue, armar un ciclo while que solo imprima los valores divisibles por 12, dentro del rango de números de 100 a 300"
   ]
  },
  {
   "cell_type": "code",
   "execution_count": 55,
   "metadata": {},
   "outputs": [
    {
     "name": "stdout",
     "output_type": "stream",
     "text": [
      "108\n",
      "120\n",
      "132\n",
      "144\n",
      "156\n",
      "168\n",
      "180\n",
      "192\n",
      "204\n",
      "216\n",
      "228\n",
      "240\n",
      "252\n",
      "264\n",
      "276\n",
      "288\n",
      "300\n"
     ]
    }
   ],
   "source": [
    "numb=99\n",
    "while numb<=300:\n",
    "    numb+=1\n",
    "    if numb%12!=0:\n",
    "        continue\n",
    "    else:\n",
    "        print(numb)\n",
    "    "
   ]
  },
  {
   "attachments": {},
   "cell_type": "markdown",
   "metadata": {},
   "source": [
    "13) Utilizar la función **input()** que permite hacer ingresos por teclado, para encontrar números primos y dar la opción al usario de buscar el siguiente"
   ]
  },
  {
   "cell_type": "code",
   "execution_count": 61,
   "metadata": {},
   "outputs": [
    {
     "name": "stdout",
     "output_type": "stream",
     "text": [
      "1\n",
      "Ingrese 1 para buscar el seguiente número primo, o cualquier letra para finalizar\n",
      "2\n",
      "Ingrese 1 para buscar el seguiente número primo, o cualquier letra para finalizar\n",
      "3\n",
      "Ingrese 1 para buscar el seguiente número primo, o cualquier letra para finalizar\n",
      "5\n",
      "Ingrese 1 para buscar el seguiente número primo, o cualquier letra para finalizar\n",
      "7\n",
      "Ingrese 1 para buscar el seguiente número primo, o cualquier letra para finalizar\n",
      "11\n",
      "Ingrese 1 para buscar el seguiente número primo, o cualquier letra para finalizar\n",
      "13\n",
      "Ingrese 1 para buscar el seguiente número primo, o cualquier letra para finalizar\n",
      "17\n",
      "Ingrese 1 para buscar el seguiente número primo, o cualquier letra para finalizar\n",
      "El proceso ha finalizado\n"
     ]
    }
   ],
   "source": [
    "n=1\n",
    "primo=True\n",
    "x=1\n",
    "while x==1:\n",
    "    for div in range(2,n):\n",
    "        if n % div ==0:\n",
    "            primo=False\n",
    "            break\n",
    "    if primo==True:\n",
    "        print(n)\n",
    "        print('Ingrese 1 para buscar el seguiente número primo, o cualquier letra para finalizar')\n",
    "        if input()!='1':\n",
    "            print('El proceso ha finalizado')\n",
    "            break\n",
    "    else:\n",
    "        primo=True\n",
    "    n+=1\n",
    "      \n"
   ]
  },
  {
   "attachments": {},
   "cell_type": "markdown",
   "metadata": {},
   "source": [
    "14) Crear un ciclo while que encuentre dentro del rango de 100 a 300 el primer número divisible por 3 y además múltiplo de 6"
   ]
  },
  {
   "cell_type": "code",
   "execution_count": 63,
   "metadata": {},
   "outputs": [
    {
     "name": "stdout",
     "output_type": "stream",
     "text": [
      "102\n"
     ]
    }
   ],
   "source": [
    "n=100\n",
    "while n<300:\n",
    "    if n%6==0:\n",
    "        print(n)\n",
    "        break\n",
    "    n+=1"
   ]
  }
 ],
 "metadata": {
  "interpreter": {
   "hash": "c85384e4cb51c8b72350f3a8712cc8351fdc3955e32a27f9b60c6242ab125f01"
  },
  "kernelspec": {
   "display_name": "Python 3 (ipykernel)",
   "language": "python",
   "name": "python3"
  },
  "language_info": {
   "codemirror_mode": {
    "name": "ipython",
    "version": 3
   },
   "file_extension": ".py",
   "mimetype": "text/x-python",
   "name": "python",
   "nbconvert_exporter": "python",
   "pygments_lexer": "ipython3",
   "version": "3.11.8"
  }
 },
 "nbformat": 4,
 "nbformat_minor": 4
}
